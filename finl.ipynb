{
  "cells": [
    {
      "cell_type": "code",
      "execution_count": 1,
      "metadata": {
        "id": "ewX7Xobc5Pab"
      },
      "outputs": [],
      "source": [
        "import warnings\n",
        "warnings.filterwarnings('ignore')\n",
        "\n",
        "import numpy as np # linear algebra\n",
        "import pandas as pd # data processing, CSV file I/O (e.g. pd.read_csv)\n",
        "\n",
        "# Visualisation libraries\n",
        "import matplotlib.pyplot as plt\n",
        "import seaborn as sns\n",
        "\n",
        "# Machine Learning Libraries\n",
        "from sklearn.model_selection import train_test_split,GridSearchCV,RandomizedSearchCV\n",
        "from sklearn.feature_extraction.text import TfidfVectorizer\n",
        "from sklearn.feature_selection import SelectKBest,chi2,f_classif\n",
        "from sklearn.ensemble import RandomForestClassifier,VotingClassifier,AdaBoostClassifier,GradientBoostingClassifier,BaggingClassifier\n",
        "from sklearn.metrics import classification_report , confusion_matrix\n",
        "from sklearn.tree import DecisionTreeClassifier\n",
        "from sklearn.neighbors import KNeighborsClassifier\n",
        "from sklearn.naive_bayes import GaussianNB, MultinomialNB, BernoulliNB"
      ]
    },
    {
      "cell_type": "code",
      "execution_count": 2,
      "metadata": {
        "id": "BA3HMb6M6CTX"
      },
      "outputs": [],
      "source": [
        "import pickle\n",
        "import string\n",
        "\n",
        "# Text Processing libraries\n",
        "import nltk\n",
        "from nltk.stem import PorterStemmer\n",
        "\n",
        "import os\n",
        "for dirname, _, filenames in os.walk('/kaggle/input'):\n",
        "    for filename in filenames:\n",
        "        print(os.path.join(dirname, filename))"
      ]
    },
    {
      "cell_type": "code",
      "execution_count": 3,
      "metadata": {
        "colab": {
          "base_uri": "https://localhost:8080/",
          "height": 206
        },
        "id": "WyWjp46R6K8b",
        "outputId": "089d286e-a51c-408a-cd9d-612ec43cf2c4"
      },
      "outputs": [
        {
          "data": {
            "text/html": [
              "<div>\n",
              "<style scoped>\n",
              "    .dataframe tbody tr th:only-of-type {\n",
              "        vertical-align: middle;\n",
              "    }\n",
              "\n",
              "    .dataframe tbody tr th {\n",
              "        vertical-align: top;\n",
              "    }\n",
              "\n",
              "    .dataframe thead th {\n",
              "        text-align: right;\n",
              "    }\n",
              "</style>\n",
              "<table border=\"1\" class=\"dataframe\">\n",
              "  <thead>\n",
              "    <tr style=\"text-align: right;\">\n",
              "      <th></th>\n",
              "      <th>Unnamed: 0</th>\n",
              "      <th>text</th>\n",
              "      <th>class</th>\n",
              "    </tr>\n",
              "  </thead>\n",
              "  <tbody>\n",
              "    <tr>\n",
              "      <th>0</th>\n",
              "      <td>2</td>\n",
              "      <td>Ex Wife Threatening SuicideRecently I left my ...</td>\n",
              "      <td>suicide</td>\n",
              "    </tr>\n",
              "    <tr>\n",
              "      <th>1</th>\n",
              "      <td>3</td>\n",
              "      <td>Am I weird I don't get affected by compliments...</td>\n",
              "      <td>non-suicide</td>\n",
              "    </tr>\n",
              "    <tr>\n",
              "      <th>2</th>\n",
              "      <td>4</td>\n",
              "      <td>Finally 2020 is almost over... So I can never ...</td>\n",
              "      <td>non-suicide</td>\n",
              "    </tr>\n",
              "    <tr>\n",
              "      <th>3</th>\n",
              "      <td>8</td>\n",
              "      <td>i need helpjust help me im crying so hard</td>\n",
              "      <td>suicide</td>\n",
              "    </tr>\n",
              "    <tr>\n",
              "      <th>4</th>\n",
              "      <td>9</td>\n",
              "      <td>I’m so lostHello, my name is Adam (16) and I’v...</td>\n",
              "      <td>suicide</td>\n",
              "    </tr>\n",
              "  </tbody>\n",
              "</table>\n",
              "</div>"
            ],
            "text/plain": [
              "   Unnamed: 0                                               text        class\n",
              "0           2  Ex Wife Threatening SuicideRecently I left my ...      suicide\n",
              "1           3  Am I weird I don't get affected by compliments...  non-suicide\n",
              "2           4  Finally 2020 is almost over... So I can never ...  non-suicide\n",
              "3           8          i need helpjust help me im crying so hard      suicide\n",
              "4           9  I’m so lostHello, my name is Adam (16) and I’v...      suicide"
            ]
          },
          "execution_count": 3,
          "metadata": {},
          "output_type": "execute_result"
        }
      ],
      "source": [
        "data = pd.read_csv('Suicide_Detection.csv')\n",
        "data.head()"
      ]
    },
    {
      "cell_type": "code",
      "execution_count": 4,
      "metadata": {
        "colab": {
          "base_uri": "https://localhost:8080/"
        },
        "id": "3DjwwQmV6xH1",
        "outputId": "0118b6e2-7499-49bd-8718-a99a95da849d"
      },
      "outputs": [
        {
          "name": "stdout",
          "output_type": "stream",
          "text": [
            "<class 'pandas.core.frame.DataFrame'>\n",
            "Int64Index: 10000 entries, 74414 to 224640\n",
            "Data columns (total 3 columns):\n",
            " #   Column      Non-Null Count  Dtype \n",
            "---  ------      --------------  ----- \n",
            " 0   Unnamed: 0  10000 non-null  int64 \n",
            " 1   text        10000 non-null  object\n",
            " 2   class       10000 non-null  object\n",
            "dtypes: int64(1), object(2)\n",
            "memory usage: 312.5+ KB\n"
          ]
        }
      ],
      "source": [
        "data.shape\n",
        "df = data.sample(n=10000, random_state=42)\n",
        "df.info()"
      ]
    },
    {
      "cell_type": "code",
      "execution_count": 5,
      "metadata": {
        "id": "EMS_sHSc67HG"
      },
      "outputs": [],
      "source": [
        "df.drop(columns = 'Unnamed: 0',inplace=True)"
      ]
    },
    {
      "cell_type": "code",
      "execution_count": 6,
      "metadata": {
        "colab": {
          "base_uri": "https://localhost:8080/",
          "height": 206
        },
        "id": "LkqFl8af7BHb",
        "outputId": "10082a50-1af5-4c77-80f6-ea7e3ceb6ade"
      },
      "outputs": [
        {
          "data": {
            "text/html": [
              "<div>\n",
              "<style scoped>\n",
              "    .dataframe tbody tr th:only-of-type {\n",
              "        vertical-align: middle;\n",
              "    }\n",
              "\n",
              "    .dataframe tbody tr th {\n",
              "        vertical-align: top;\n",
              "    }\n",
              "\n",
              "    .dataframe thead th {\n",
              "        text-align: right;\n",
              "    }\n",
              "</style>\n",
              "<table border=\"1\" class=\"dataframe\">\n",
              "  <thead>\n",
              "    <tr style=\"text-align: right;\">\n",
              "      <th></th>\n",
              "      <th>text</th>\n",
              "      <th>class</th>\n",
              "    </tr>\n",
              "  </thead>\n",
              "  <tbody>\n",
              "    <tr>\n",
              "      <th>74414</th>\n",
              "      <td>I Don't know?7? Months self harm free and the ...</td>\n",
              "      <td>suicide</td>\n",
              "    </tr>\n",
              "    <tr>\n",
              "      <th>149516</th>\n",
              "      <td>I HAVE TO START BECOMING RICH I HAVE TO START ...</td>\n",
              "      <td>non-suicide</td>\n",
              "    </tr>\n",
              "    <tr>\n",
              "      <th>12484</th>\n",
              "      <td>A poem (haiku) for u/Me-Game-Dev hi, hello hel...</td>\n",
              "      <td>non-suicide</td>\n",
              "    </tr>\n",
              "    <tr>\n",
              "      <th>14043</th>\n",
              "      <td>I've honestly got no idea what to do anymore.I...</td>\n",
              "      <td>suicide</td>\n",
              "    </tr>\n",
              "    <tr>\n",
              "      <th>30673</th>\n",
              "      <td>Do you ever just cry? Like you just think abou...</td>\n",
              "      <td>non-suicide</td>\n",
              "    </tr>\n",
              "  </tbody>\n",
              "</table>\n",
              "</div>"
            ],
            "text/plain": [
              "                                                     text        class\n",
              "74414   I Don't know?7? Months self harm free and the ...      suicide\n",
              "149516  I HAVE TO START BECOMING RICH I HAVE TO START ...  non-suicide\n",
              "12484   A poem (haiku) for u/Me-Game-Dev hi, hello hel...  non-suicide\n",
              "14043   I've honestly got no idea what to do anymore.I...      suicide\n",
              "30673   Do you ever just cry? Like you just think abou...  non-suicide"
            ]
          },
          "execution_count": 6,
          "metadata": {},
          "output_type": "execute_result"
        }
      ],
      "source": [
        "df.head()"
      ]
    },
    {
      "cell_type": "code",
      "execution_count": 7,
      "metadata": {
        "colab": {
          "base_uri": "https://localhost:8080/",
          "height": 298
        },
        "id": "oPv4XmoW7GJd",
        "outputId": "0dd47194-dbd7-43fc-8265-e2451889774c"
      },
      "outputs": [
        {
          "name": "stdout",
          "output_type": "stream",
          "text": [
            "non-suicide    5048\n",
            "suicide        4952\n",
            "Name: class, dtype: int64\n"
          ]
        },
        {
          "data": {
            "image/png": "[encoded data removed]",
            "text/plain": [
              "<Figure size 2000x500 with 2 Axes>"
            ]
          },
          "metadata": {},
          "output_type": "display_data"
        }
      ],
      "source": [
        "classCnt = df['class'].value_counts()\n",
        "print(classCnt)\n",
        "\n",
        "plt.figure(figsize=((20,5)))\n",
        "\n",
        "plt.subplot(1,2,1)\n",
        "sns.countplot(df,x='class')\n",
        "\n",
        "plt.subplot(1,2,2)\n",
        "plt.pie(classCnt,labels = classCnt.index,autopct='%.0f%%')\n",
        "\n",
        "plt.show()"
      ]
    },
    {
      "cell_type": "code",
      "execution_count": 8,
      "metadata": {
        "id": "E4wnmY5H77jF"
      },
      "outputs": [],
      "source": [
        "df['text']= df['text'].str.lower()\n",
        "df['text'] = df['text'].str.replace(r'[^\\w\\s]+', '',regex = True)\n"
      ]
    },
    {
      "cell_type": "code",
      "execution_count": 9,
      "metadata": {
        "colab": {
          "base_uri": "https://localhost:8080/"
        },
        "id": "zxc-ACSV8cwS",
        "outputId": "abb190fa-79ed-4ab0-8914-162e19fe5e60"
      },
      "outputs": [
        {
          "name": "stderr",
          "output_type": "stream",
          "text": [
            "[nltk_data] Downloading package stopwords to C:\\Users\\Harshith\n",
            "[nltk_data]     M\\AppData\\Roaming\\nltk_data...\n",
            "[nltk_data]   Package stopwords is already up-to-date!\n"
          ]
        }
      ],
      "source": [
        "import nltk\n",
        "from nltk.corpus import stopwords\n",
        "nltk.download('stopwords')\n",
        "stop_words = stopwords.words('english')\n",
        "df['text'] = df['text'].apply(lambda x: ' '.join([word for word in x.split() if word not in (stop_words)]))\n"
      ]
    },
    {
      "cell_type": "code",
      "execution_count": 10,
      "metadata": {
        "colab": {
          "base_uri": "https://localhost:8080/"
        },
        "id": "566QRwcM9jP8",
        "outputId": "75fb3e70-bf42-4d46-8032-bf3112109df8"
      },
      "outputs": [
        {
          "name": "stderr",
          "output_type": "stream",
          "text": [
            "[nltk_data] Downloading package punkt to C:\\Users\\Harshith\n",
            "[nltk_data]     M\\AppData\\Roaming\\nltk_data...\n",
            "[nltk_data]   Package punkt is already up-to-date!\n"
          ]
        }
      ],
      "source": [
        "nltk.download('punkt')\n",
        "df['text'] = df['text'].apply(lambda x:nltk.word_tokenize(x))\n",
        "ps = PorterStemmer()\n",
        "df['text'] = df['text'].apply(lambda x : [ps.stem(i) for i in x])\n",
        "df['text']=df['text'].apply(lambda x : ' '.join(x))"
      ]
    },
    {
      "cell_type": "code",
      "execution_count": 11,
      "metadata": {
        "colab": {
          "base_uri": "https://localhost:8080/",
          "height": 206
        },
        "id": "4jkkwY8Y92Ms",
        "outputId": "f3e7438d-fd19-4f33-8632-7cb7465cf6b5"
      },
      "outputs": [
        {
          "data": {
            "text/html": [
              "<div>\n",
              "<style scoped>\n",
              "    .dataframe tbody tr th:only-of-type {\n",
              "        vertical-align: middle;\n",
              "    }\n",
              "\n",
              "    .dataframe tbody tr th {\n",
              "        vertical-align: top;\n",
              "    }\n",
              "\n",
              "    .dataframe thead th {\n",
              "        text-align: right;\n",
              "    }\n",
              "</style>\n",
              "<table border=\"1\" class=\"dataframe\">\n",
              "  <thead>\n",
              "    <tr style=\"text-align: right;\">\n",
              "      <th></th>\n",
              "      <th>text</th>\n",
              "      <th>class</th>\n",
              "    </tr>\n",
              "  </thead>\n",
              "  <tbody>\n",
              "    <tr>\n",
              "      <th>74414</th>\n",
              "      <td>dont know7 month self harm free urg get strong...</td>\n",
              "      <td>suicide</td>\n",
              "    </tr>\n",
              "    <tr>\n",
              "      <th>149516</th>\n",
              "      <td>start becom rich start compani becom 16 afford...</td>\n",
              "      <td>non-suicide</td>\n",
              "    </tr>\n",
              "    <tr>\n",
              "      <th>12484</th>\n",
              "      <td>poem haiku umegamedev hi hello hello stop fuck...</td>\n",
              "      <td>non-suicide</td>\n",
              "    </tr>\n",
              "    <tr>\n",
              "      <th>14043</th>\n",
              "      <td>ive honestli got idea anymoreit feel everyon f...</td>\n",
              "      <td>suicide</td>\n",
              "    </tr>\n",
              "    <tr>\n",
              "      <th>30673</th>\n",
              "      <td>ever cri like think unfair life cri cant cri e...</td>\n",
              "      <td>non-suicide</td>\n",
              "    </tr>\n",
              "  </tbody>\n",
              "</table>\n",
              "</div>"
            ],
            "text/plain": [
              "                                                     text        class\n",
              "74414   dont know7 month self harm free urg get strong...      suicide\n",
              "149516  start becom rich start compani becom 16 afford...  non-suicide\n",
              "12484   poem haiku umegamedev hi hello hello stop fuck...  non-suicide\n",
              "14043   ive honestli got idea anymoreit feel everyon f...      suicide\n",
              "30673   ever cri like think unfair life cri cant cri e...  non-suicide"
            ]
          },
          "execution_count": 11,
          "metadata": {},
          "output_type": "execute_result"
        }
      ],
      "source": [
        "df.head()"
      ]
    },
    {
      "cell_type": "code",
      "execution_count": 12,
      "metadata": {
        "id": "OCaInZYt9-ud"
      },
      "outputs": [],
      "source": [
        "df.to_csv('suic.csv')"
      ]
    },
    {
      "cell_type": "code",
      "execution_count": 13,
      "metadata": {
        "colab": {
          "base_uri": "https://localhost:8080/",
          "height": 206
        },
        "id": "XEQaE7Fk-CC6",
        "outputId": "fd798ff2-c9b3-4e01-e929-550bcf1796ac"
      },
      "outputs": [
        {
          "data": {
            "text/html": [
              "<div>\n",
              "<style scoped>\n",
              "    .dataframe tbody tr th:only-of-type {\n",
              "        vertical-align: middle;\n",
              "    }\n",
              "\n",
              "    .dataframe tbody tr th {\n",
              "        vertical-align: top;\n",
              "    }\n",
              "\n",
              "    .dataframe thead th {\n",
              "        text-align: right;\n",
              "    }\n",
              "</style>\n",
              "<table border=\"1\" class=\"dataframe\">\n",
              "  <thead>\n",
              "    <tr style=\"text-align: right;\">\n",
              "      <th></th>\n",
              "      <th>Unnamed: 0</th>\n",
              "      <th>text</th>\n",
              "      <th>class</th>\n",
              "    </tr>\n",
              "  </thead>\n",
              "  <tbody>\n",
              "    <tr>\n",
              "      <th>0</th>\n",
              "      <td>74414</td>\n",
              "      <td>dont know7 month self harm free urg get strong...</td>\n",
              "      <td>suicide</td>\n",
              "    </tr>\n",
              "    <tr>\n",
              "      <th>1</th>\n",
              "      <td>149516</td>\n",
              "      <td>start becom rich start compani becom 16 afford...</td>\n",
              "      <td>non-suicide</td>\n",
              "    </tr>\n",
              "    <tr>\n",
              "      <th>2</th>\n",
              "      <td>12484</td>\n",
              "      <td>poem haiku umegamedev hi hello hello stop fuck...</td>\n",
              "      <td>non-suicide</td>\n",
              "    </tr>\n",
              "    <tr>\n",
              "      <th>3</th>\n",
              "      <td>14043</td>\n",
              "      <td>ive honestli got idea anymoreit feel everyon f...</td>\n",
              "      <td>suicide</td>\n",
              "    </tr>\n",
              "    <tr>\n",
              "      <th>4</th>\n",
              "      <td>30673</td>\n",
              "      <td>ever cri like think unfair life cri cant cri e...</td>\n",
              "      <td>non-suicide</td>\n",
              "    </tr>\n",
              "  </tbody>\n",
              "</table>\n",
              "</div>"
            ],
            "text/plain": [
              "   Unnamed: 0                                               text        class\n",
              "0       74414  dont know7 month self harm free urg get strong...      suicide\n",
              "1      149516  start becom rich start compani becom 16 afford...  non-suicide\n",
              "2       12484  poem haiku umegamedev hi hello hello stop fuck...  non-suicide\n",
              "3       14043  ive honestli got idea anymoreit feel everyon f...      suicide\n",
              "4       30673  ever cri like think unfair life cri cant cri e...  non-suicide"
            ]
          },
          "execution_count": 13,
          "metadata": {},
          "output_type": "execute_result"
        }
      ],
      "source": [
        "dfnew = pd.read_csv('suic.csv')\n",
        "dfnew.head()"
      ]
    },
    {
      "cell_type": "code",
      "execution_count": 14,
      "metadata": {
        "colab": {
          "base_uri": "https://localhost:8080/",
          "height": 206
        },
        "id": "fIdikiLf-EZQ",
        "outputId": "256690db-d130-4676-96c6-6b6b43dcf694"
      },
      "outputs": [
        {
          "data": {
            "text/html": [
              "<div>\n",
              "<style scoped>\n",
              "    .dataframe tbody tr th:only-of-type {\n",
              "        vertical-align: middle;\n",
              "    }\n",
              "\n",
              "    .dataframe tbody tr th {\n",
              "        vertical-align: top;\n",
              "    }\n",
              "\n",
              "    .dataframe thead th {\n",
              "        text-align: right;\n",
              "    }\n",
              "</style>\n",
              "<table border=\"1\" class=\"dataframe\">\n",
              "  <thead>\n",
              "    <tr style=\"text-align: right;\">\n",
              "      <th></th>\n",
              "      <th>text</th>\n",
              "      <th>class</th>\n",
              "    </tr>\n",
              "  </thead>\n",
              "  <tbody>\n",
              "    <tr>\n",
              "      <th>102482</th>\n",
              "      <td></td>\n",
              "      <td>suicide</td>\n",
              "    </tr>\n",
              "  </tbody>\n",
              "</table>\n",
              "</div>"
            ],
            "text/plain": [
              "       text    class\n",
              "102482       suicide"
            ]
          },
          "execution_count": 14,
          "metadata": {},
          "output_type": "execute_result"
        }
      ],
      "source": [
        "ind = dfnew[dfnew['text'].isnull()].index\n",
        "df.iloc[ind]"
      ]
    },
    {
      "cell_type": "code",
      "execution_count": 15,
      "metadata": {
        "id": "Uc47RAx--Ku6"
      },
      "outputs": [],
      "source": [
        "dfnew.dropna(inplace=True)\n",
        "x,y = dfnew['text'],dfnew['class']\n",
        "vectorizer = TfidfVectorizer(min_df=50,max_features=5000)\n",
        "x =  vectorizer.fit_transform(x).toarray()"
      ]
    },
    {
      "cell_type": "code",
      "execution_count": 16,
      "metadata": {
        "id": "_V7s45iL-UD_"
      },
      "outputs": [],
      "source": [
        "with open('tfidf.pkl', 'wb') as f:\n",
        "    pickle.dump(vectorizer, f)\n"
      ]
    },
    {
      "cell_type": "code",
      "execution_count": 17,
      "metadata": {
        "id": "XXgIl1MR-g2J"
      },
      "outputs": [],
      "source": [
        "X_train,X_test,y_train,y_test = train_test_split(x,y,test_size=0.30,random_state=5)"
      ]
    },
    {
      "cell_type": "code",
      "execution_count": 18,
      "metadata": {
        "colab": {
          "base_uri": "https://localhost:8080/"
        },
        "id": "kuG_eCCM-iqP",
        "outputId": "963ba168-be0d-4b5b-ccb1-90d57346c557"
      },
      "outputs": [
        {
          "data": {
            "text/plain": [
              "((6999, 1320), (3000, 1320))"
            ]
          },
          "execution_count": 18,
          "metadata": {},
          "output_type": "execute_result"
        }
      ],
      "source": [
        "X_train.shape,X_test.shape"
      ]
    },
    {
      "cell_type": "code",
      "execution_count": 19,
      "metadata": {
        "colab": {
          "base_uri": "https://localhost:8080/"
        },
        "id": "g-3zMxom-i2f",
        "outputId": "96ba8301-f584-49dc-ccfc-2684e5388e2d"
      },
      "outputs": [
        {
          "name": "stdout",
          "output_type": "stream",
          "text": [
            "Training score: 0.899271324474925\n",
            "Testing score: 0.8753333333333333\n"
          ]
        }
      ],
      "source": [
        "nb = GaussianNB()\n",
        "nb2 = BernoulliNB()\n",
        "nb3 = MultinomialNB()\n",
        "VotingClassifiers = VotingClassifier(estimators=[('GaussianNB', nb),('BernoulliNB',nb2), ('MultinomialNB', nb3)], voting = 'soft')\n",
        "VotingClassifiers.fit(X_train, y_train)\n",
        "print('Training score:',VotingClassifiers.score(X_train, y_train))\n",
        "print('Testing score:',VotingClassifiers.score(X_test,y_test))"
      ]
    },
    {
      "cell_type": "code",
      "execution_count": 20,
      "metadata": {
        "colab": {
          "base_uri": "https://localhost:8080/",
          "height": 586
        },
        "id": "3wfhQ377-jG4",
        "outputId": "4bb649be-220d-4263-8d29-9ed85d66824b"
      },
      "outputs": [
        {
          "name": "stdout",
          "output_type": "stream",
          "text": [
            "              precision    recall  f1-score   support\n",
            "\n",
            " non-suicide       0.88      0.88      0.88      1542\n",
            "     suicide       0.87      0.87      0.87      1458\n",
            "\n",
            "    accuracy                           0.88      3000\n",
            "   macro avg       0.88      0.88      0.88      3000\n",
            "weighted avg       0.88      0.88      0.88      3000\n",
            "\n"
          ]
        },
        {
          "data": {
            "image/png": "[encoded data removed]",
            "text/plain": [
              "<Figure size 640x480 with 2 Axes>"
            ]
          },
          "metadata": {},
          "output_type": "display_data"
        }
      ],
      "source": [
        "y_act=y_test\n",
        "y_pred=VotingClassifiers.predict(X_test)\n",
        "sns.heatmap(confusion_matrix(y_act,y_pred),annot=True,cmap='summer')\n",
        "print(classification_report(y_act,y_pred))"
      ]
    },
    {
      "cell_type": "code",
      "execution_count": 21,
      "metadata": {
        "id": "OdpqeYDv-v2M"
      },
      "outputs": [],
      "source": [
        "with open('best_model.pkl', 'wb') as f:\n",
        "    pickle.dump(VotingClassifiers, f)"
      ]
    },
    {
      "cell_type": "code",
      "execution_count": 22,
      "metadata": {
        "id": "JXIiALPv-wQs"
      },
      "outputs": [],
      "source": [
        "def preprocess(inp):\n",
        "    inp = inp.lower() #convert to lower case\n",
        "    inp = inp.replace(r'[^\\w\\s]+', '') #remove punctuations\n",
        "    inp = [word for word in inp.split() if word not in (stop_words)] #tokenize the sentence\n",
        "    inp = ' '.join([ps.stem(i) for i in inp]) #stremming\n",
        "    inputToModel = vectorizer.transform([inp]).toarray() #transform to vector form\n",
        "    return inputToModel"
      ]
    },
    {
      "cell_type": "code",
      "execution_count": 23,
      "metadata": {
        "id": "FV8G-6fE-6YD"
      },
      "outputs": [],
      "source": [
        "def app(input_text):\n",
        "    # Define the input text box\n",
        "    print('Input : ',input_text) #take input from user\n",
        "    processed_array = preprocess(input_text) #preprocess the text\n",
        "    predict = VotingClassifiers.predict(processed_array) #Model prediction\n",
        "    print('Output : ', predict[0])"
      ]
    },
    {
      "cell_type": "code",
      "execution_count": 24,
      "metadata": {
        "colab": {
          "base_uri": "https://localhost:8080/"
        },
        "id": "3GYD5hXv-_Rj",
        "outputId": "0ef58a33-134d-446c-d2a3-6c30c13208c1"
      },
      "outputs": [
        {
          "name": "stdout",
          "output_type": "stream",
          "text": [
            "Input :  i will notdie\n",
            "Output :  non-suicide\n"
          ]
        }
      ],
      "source": [
        "app('i will notdie')"
      ]
    }
  ],
  "metadata": {
    "colab": {
      "provenance": []
    },
    "kernelspec": {
      "display_name": "Python 3",
      "name": "python3"
    },
    "language_info": {
      "codemirror_mode": {
        "name": "ipython",
        "version": 3
      },
      "file_extension": ".py",
      "mimetype": "text/x-python",
      "name": "python",
      "nbconvert_exporter": "python",
      "pygments_lexer": "ipython3",
      "version": "3.10.0"
    }
  },
  "nbformat": 4,
  "nbformat_minor": 0
}
